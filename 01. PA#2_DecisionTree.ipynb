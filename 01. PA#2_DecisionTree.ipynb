{
 "cells": [
  {
   "cell_type": "markdown",
   "metadata": {},
   "source": [
    "# PA 2: Classification - Decision Tree"
   ]
  },
  {
   "cell_type": "markdown",
   "metadata": {},
   "source": [
    "## Student Details\n",
    "Student Name and ID:___\n",
    "\n",
    "\n",
    "Notes: When submitting, fill your name and ID in this cell. [1 point]\n",
    "\n",
    "\n",
    "Do not to forget to cite any external sources used by you. "
   ]
  },
  {
   "cell_type": "markdown",
   "metadata": {},
   "source": [
    "## Programming Assignment Submission Instructions\n",
    "\n",
    "\n",
    "Step 1: Rename this submission file as 'yourLastName_Last4digitsofyourID_DT.ipynb' [1 point]\n",
    "\n",
    "Step 2: Place this file inside the folder 'PA#2_Classification_yourLastName_Option2' [1 point]\n"
   ]
  },
  {
   "cell_type": "markdown",
   "metadata": {},
   "source": [
    "## Programming Assignment Details\n",
    "\n",
    "This is an individual assignment. \n",
    "\n",
    "For this assignment use Jupyter notebook, Panda, and scikit.\n",
    "\n",
    "- Load wine dataset from sklearn datasets.  [2 points]\n",
    "- Create a dataframe and print the first and last five records of your dataset.  [2 points]\n",
    "- Print the class names.  [2 points]\n",
    "- Split your dataset 70% for training, and 30% for testing the classifier.  [2 points]\n",
    "- Use gini and entropy to measure the quality of a split.  [5 points]\n",
    "- Use comments to explain your code and variable names. [2 points]\n",
    "- Calculate and print the confusion matrix, and the classification Report (includes: precision, recall, f1-score, and support).  [5 points]\n",
    "- Print the decision tree visualization.  [5 points]"
   ]
  },
  {
   "cell_type": "markdown",
   "metadata": {},
   "source": [
    "## Report\n",
    "\n",
    "For each classification task you need to submit a report (Microsoft Word, or PDF) that you have to:\n",
    "- describe the Decision Tree method,  [5 points]\n",
    "- the dataset and if you have done any pre-process, and [5 points]\n",
    "- your code. [2 points]\n",
    "- Visualization of the decision tree for gini and entropy.[8 points]\n",
    "- Interpret your results, and do not forget to compare gini and entropy [10 points]\n",
    "\n",
    "Do not to forget to cite your sources!\n",
    "\n",
    "\n",
    "Step 3: Save your report file as 'yourLastName_Last4digitsofyourID_DT.doc' [1 point]\n",
    "\n",
    "Step 4: Place this file inside the folder 'PA#2_Classification_yourLastName_Option2' [1 point]"
   ]
  },
  {
   "cell_type": "code",
   "execution_count": 14,
   "metadata": {},
   "outputs": [
    {
     "name": "stdout",
     "output_type": "stream",
     "text": [
      "      0     1     2     3      4     5     6     7     8     9     10    11  \\\n",
      "0  14.23  1.71  2.43  15.6  127.0  2.80  3.06  0.28  2.29  5.64  1.04  3.92   \n",
      "1  13.20  1.78  2.14  11.2  100.0  2.65  2.76  0.26  1.28  4.38  1.05  3.40   \n",
      "2  13.16  2.36  2.67  18.6  101.0  2.80  3.24  0.30  2.81  5.68  1.03  3.17   \n",
      "3  14.37  1.95  2.50  16.8  113.0  3.85  3.49  0.24  2.18  7.80  0.86  3.45   \n",
      "4  13.24  2.59  2.87  21.0  118.0  2.80  2.69  0.39  1.82  4.32  1.04  2.93   \n",
      "\n",
      "       12  \n",
      "0  1065.0  \n",
      "1  1050.0  \n",
      "2  1185.0  \n",
      "3  1480.0  \n",
      "4   735.0  \n",
      "        0     1     2     3      4     5     6     7     8     9     10    11  \\\n",
      "173  13.71  5.65  2.45  20.5   95.0  1.68  0.61  0.52  1.06   7.7  0.64  1.74   \n",
      "174  13.40  3.91  2.48  23.0  102.0  1.80  0.75  0.43  1.41   7.3  0.70  1.56   \n",
      "175  13.27  4.28  2.26  20.0  120.0  1.59  0.69  0.43  1.35  10.2  0.59  1.56   \n",
      "176  13.17  2.59  2.37  20.0  120.0  1.65  0.68  0.53  1.46   9.3  0.60  1.62   \n",
      "177  14.13  4.10  2.74  24.5   96.0  2.05  0.76  0.56  1.35   9.2  0.61  1.60   \n",
      "\n",
      "        12  \n",
      "173  740.0  \n",
      "174  750.0  \n",
      "175  835.0  \n",
      "176  840.0  \n",
      "177  560.0  \n",
      "/n\n",
      "(124, 13) (124,)\n",
      "(54, 13) (54,)\n"
     ]
    }
   ],
   "source": [
    "import pandas as pd\n",
    "import numpy as np\n",
    "from sklearn import svm\n",
    "from sklearn import datasets, linear_model\n",
    "from sklearn.model_selection import train_test_split\n",
    "\n",
    "#load datasets\n",
    "wine =pd.DataFrame(datasets.load_wine().data)\n",
    "\n",
    "\n",
    "print (wine_head)\n",
    "print (wine_tail)\n",
    "\n",
    "#split the training and test sets\n",
    "X_train, X_test, y_train, y_test = train_test_split(df, y, test_size=0.3)\n",
    "print (X_train.shape, y_train.shape)\n",
    "print (X_test.shape, y_test.shape)\n",
    "\n"
   ]
  },
  {
   "cell_type": "markdown",
   "metadata": {},
   "source": [
    "# - - - - - - - - - - - - - - - Solution - - - - - - - - - - - - - - - - - - "
   ]
  }
 ],
 "metadata": {
  "kernelspec": {
   "display_name": "Python 3",
   "language": "python",
   "name": "python3"
  },
  "language_info": {
   "codemirror_mode": {
    "name": "ipython",
    "version": 3
   },
   "file_extension": ".py",
   "mimetype": "text/x-python",
   "name": "python",
   "nbconvert_exporter": "python",
   "pygments_lexer": "ipython3",
   "version": "3.6.5"
  }
 },
 "nbformat": 4,
 "nbformat_minor": 2
}
