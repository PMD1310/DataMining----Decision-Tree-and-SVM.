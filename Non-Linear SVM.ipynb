{
 "cells": [
  {
   "cell_type": "code",
   "execution_count": 1,
   "metadata": {},
   "outputs": [],
   "source": [
    "import numpy as np\n",
    "import pandas as pd\n",
    "from sklearn import datasets, linear_model, svm\n",
    "from sklearn.model_selection import train_test_split\n",
    "from sklearn.tree import DecisionTreeClassifier\n",
    "from sklearn.metrics import accuracy_score\n",
    "from sklearn import tree\n",
    "from sklearn.metrics import confusion_matrix\n",
    "from sklearn.metrics import classification_report\n",
    "import graphviz \n",
    "from sklearn.feature_selection import SelectKBest\n",
    "from sklearn.feature_selection import chi2\n",
    "from sklearn.svm import SVC\n",
    "from sklearn.feature_extraction.text import CountVectorizer\n",
    "from sklearn.svm import LinearSVC\n",
    "import matplotlib.pyplot as plt\n",
    "\n",
    "#load datasets\n",
    "wine = datasets.load_wine()\n",
    "df = pd.DataFrame(wine.data)\n",
    "y = wine.target\n",
    "z = wine.data\n",
    "\n",
    "\n",
    "\n",
    "\n",
    "\n",
    "\n",
    "\n",
    "\n",
    "\n",
    "\n",
    "\n",
    "\n",
    "\n",
    "\n",
    "\n",
    "\n",
    "\n",
    "\n",
    "\n"
   ]
  },
  {
   "cell_type": "code",
   "execution_count": 2,
   "metadata": {},
   "outputs": [
    {
     "name": "stdout",
     "output_type": "stream",
     "text": [
      "Dimensions of the Training Data Set are: \n",
      " (124, 13) (124,) \n",
      "\n",
      "Dimensions of the Test Data Set are: \n",
      " (54, 13) (54,) \n",
      "\n"
     ]
    }
   ],
   "source": [
    "#split the training and test sets\n",
    "X_train, X_test, y_train, y_test = train_test_split(df, y, test_size=0.3)\n",
    "print (\"Dimensions of the Training Data Set are: \\n\",X_train.shape, y_train.shape,\"\\n\")\n",
    "print (\"Dimensions of the Test Data Set are: \\n\",X_test.shape, y_test.shape,\"\\n\")"
   ]
  },
  {
   "cell_type": "code",
   "execution_count": 3,
   "metadata": {},
   "outputs": [],
   "source": [
    "#Selecting Two Attributes for training and testing sets\n",
    "best2 = SelectKBest(score_func=chi2, k=2)\n",
    "best2.fit(X_train, y_train)\n",
    "best2_attributes = best2.get_support(indices = True)\n",
    "extracted2 = [df.columns[iterator] for iterator in best2_attributes]\n",
    "X_train = X_train[extracted2]\n",
    "X_test = X_test[extracted2]"
   ]
  },
  {
   "cell_type": "code",
   "execution_count": 4,
   "metadata": {},
   "outputs": [
    {
     "name": "stdout",
     "output_type": "stream",
     "text": [
      "\n",
      " The shape of the extracted train set features are: \n",
      " (124, 2)\n",
      "\n",
      " The shape of the extracted test set  features are: \n",
      " (54, 2)\n"
     ]
    }
   ],
   "source": [
    "print (\"\\n The shape of the extracted train set features are: \\n\",X_train.shape)\n",
    "print (\"\\n The shape of the extracted test set  features are: \\n\",X_test.shape)"
   ]
  },
  {
   "cell_type": "code",
   "execution_count": 5,
   "metadata": {},
   "outputs": [
    {
     "data": {
      "text/plain": [
       "SVC(C=1.0, cache_size=200, class_weight=None, coef0=0.0,\n",
       "  decision_function_shape='ovr', degree=8, gamma='auto', kernel='poly',\n",
       "  max_iter=-1, probability=False, random_state=None, shrinking=True,\n",
       "  tol=0.001, verbose=False)"
      ]
     },
     "execution_count": 5,
     "metadata": {},
     "output_type": "execute_result"
    }
   ],
   "source": [
    "############ SVM Non-Linear Model #################################\n",
    "#Building a SVM model with Kernal = 'Non Linear Polynomial = 3'\n",
    "svclassifier = SVC(kernel='poly', degree=8)  \n",
    "svclassifier.fit(X_train, y_train)"
   ]
  },
  {
   "cell_type": "code",
   "execution_count": 6,
   "metadata": {},
   "outputs": [],
   "source": [
    "#Predictio using Non-Linear SVM\n",
    "y_pred = svclassifier.predict(X_test)"
   ]
  },
  {
   "cell_type": "code",
   "execution_count": 7,
   "metadata": {},
   "outputs": [
    {
     "name": "stdout",
     "output_type": "stream",
     "text": [
      "\n",
      " The confusion Matrix for the SVM Non - linear Kernal is: \n",
      " [[ 0  0 15]\n",
      " [ 0  0 22]\n",
      " [ 0  0 17]]\n",
      "\n",
      " The classification Report for the SVM Non -linear Kernal is: \n",
      "              precision    recall  f1-score   support\n",
      "\n",
      "          0       0.00      0.00      0.00        15\n",
      "          1       0.00      0.00      0.00        22\n",
      "          2       0.31      1.00      0.48        17\n",
      "\n",
      "avg / total       0.10      0.31      0.15        54\n",
      "\n"
     ]
    },
    {
     "name": "stderr",
     "output_type": "stream",
     "text": [
      "C:\\Users\\pramo\\Anaconda3\\lib\\site-packages\\sklearn\\metrics\\classification.py:1135: UndefinedMetricWarning: Precision and F-score are ill-defined and being set to 0.0 in labels with no predicted samples.\n",
      "  'precision', 'predicted', average, warn_for)\n"
     ]
    }
   ],
   "source": [
    "#Printing Confusion Matrix and Classification Report.\n",
    "print(\"\\n The confusion Matrix for the SVM Non - linear Kernal is: \\n\",confusion_matrix(y_test, y_pred))  \n",
    "print(\"\\n The classification Report for the SVM Non -linear Kernal is: \\n\",classification_report(y_test, y_pred)) \n"
   ]
  },
  {
   "cell_type": "code",
   "execution_count": 8,
   "metadata": {},
   "outputs": [
    {
     "name": "stderr",
     "output_type": "stream",
     "text": [
      "C:\\Users\\pramo\\Anaconda3\\lib\\site-packages\\matplotlib\\contour.py:1173: UserWarning: No contour levels were found within the data range.\n",
      "  warnings.warn(\"No contour levels were found\"\n"
     ]
    },
    {
     "data": {
      "image/png": "[encoded data removed]",
      "text/plain": [
       "<Figure size 432x288 with 1 Axes>"
      ]
     },
     "metadata": {},
     "output_type": "display_data"
    }
   ],
   "source": [
    "from mlxtend.plotting import plot_decision_regions\n",
    "\n",
    "# Plotting decision regions\n",
    "x = np.asarray(X_train)\n",
    "y = np.asarray(y_train)\n",
    "plot_decision_regions(x, y, clf=svclassifier, legend=2)\n",
    "plt.title('SVM Non - Linear on Wine Dataset')\n",
    "plt.show()"
   ]
  },
  {
   "cell_type": "code",
   "execution_count": null,
   "metadata": {},
   "outputs": [],
   "source": [
    "#References:\n",
    "\n",
    "#https://rasbt.github.io/mlxtend/user_guide/plotting/plot_decision_regions/\n",
    "#https://stackabuse.com/implementing-svm-and-kernel-svm-with-pythons-scikit-learn/\n",
    "#https://anaconda.org/conda-forge/mlxtend\n"
   ]
  },
  {
   "cell_type": "code",
   "execution_count": null,
   "metadata": {},
   "outputs": [],
   "source": []
  }
 ],
 "metadata": {
  "kernelspec": {
   "display_name": "Python 3",
   "language": "python",
   "name": "python3"
  },
  "language_info": {
   "codemirror_mode": {
    "name": "ipython",
    "version": 3
   },
   "file_extension": ".py",
   "mimetype": "text/x-python",
   "name": "python",
   "nbconvert_exporter": "python",
   "pygments_lexer": "ipython3",
   "version": "3.6.5"
  }
 },
 "nbformat": 4,
 "nbformat_minor": 2
}
