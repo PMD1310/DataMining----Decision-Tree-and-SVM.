{
 "cells": [
  {
   "cell_type": "code",
   "execution_count": 1,
   "metadata": {
    "scrolled": true
   },
   "outputs": [
    {
     "name": "stdout",
     "output_type": "stream",
     "text": [
      "Dimensions of the Training Data Set are: \n",
      " (124, 13) (124,) \n",
      "\n",
      "Dimensions of the Test Data Set are: \n",
      " (54, 13) (54,) \n",
      "\n",
      "\n",
      " The shape of the extracted train set features are: \n",
      " (124, 2)\n",
      "\n",
      " The shape of the extracted test set  features are: \n",
      " (54, 2)\n",
      "\n",
      " The confusion Matrix for the SVM linear Kernal is: \n",
      " [[19  0  1]\n",
      " [ 1 18  1]\n",
      " [ 0  1 13]]\n",
      "\n",
      " The classification Report for the SVM linear Kernal is: \n",
      "              precision    recall  f1-score   support\n",
      "\n",
      "          0       0.95      0.95      0.95        20\n",
      "          1       0.95      0.90      0.92        20\n",
      "          2       0.87      0.93      0.90        14\n",
      "\n",
      "avg / total       0.93      0.93      0.93        54\n",
      "\n"
     ]
    }
   ],
   "source": [
    "import numpy as np\n",
    "import pandas as pd\n",
    "from sklearn import datasets, linear_model, svm\n",
    "from sklearn.model_selection import train_test_split\n",
    "from sklearn.tree import DecisionTreeClassifier\n",
    "from sklearn.metrics import accuracy_score\n",
    "from sklearn import tree\n",
    "from sklearn.metrics import confusion_matrix\n",
    "from sklearn.metrics import classification_report\n",
    "import graphviz \n",
    "from sklearn.feature_selection import SelectKBest\n",
    "from sklearn.feature_selection import chi2\n",
    "from sklearn.svm import SVC\n",
    "from sklearn.feature_extraction.text import CountVectorizer\n",
    "from sklearn.svm import LinearSVC\n",
    "import matplotlib.pyplot as plt\n",
    "\n",
    "#load datasets\n",
    "wine = datasets.load_wine()\n",
    "df = pd.DataFrame(wine.data)\n",
    "y = wine.target\n",
    "z = wine.data\n",
    "\n",
    "#split the training and test sets\n",
    "X_train, X_test, y_train, y_test = train_test_split(df, y, test_size=0.3)\n",
    "print (\"Dimensions of the Training Data Set are: \\n\",X_train.shape, y_train.shape,\"\\n\")\n",
    "print (\"Dimensions of the Test Data Set are: \\n\",X_test.shape, y_test.shape,\"\\n\")\n",
    "\n",
    "#Selecting Two Attributes for training and testing sets\n",
    "best2 = SelectKBest(score_func=chi2, k=2)\n",
    "best2.fit(X_train, y_train)\n",
    "best2_attributes = best2.get_support(indices = True)\n",
    "extracted2 = [df.columns[iterator] for iterator in best2_attributes]\n",
    "X_train = X_train[extracted2]\n",
    "X_test = X_test[extracted2]\n",
    "\n",
    "print (\"\\n The shape of the extracted train set features are: \\n\",X_train.shape)\n",
    "print (\"\\n The shape of the extracted test set  features are: \\n\",X_test.shape)\n",
    "\n",
    "############ SVM Linear Model #################################\n",
    "#Building a SVM model with Kernal = 'Linear', using One vs One method.\n",
    "svclassifier = SVC(kernel='linear', decision_function_shape = 'ovo')  \n",
    "svclassifier.fit(X_train, y_train) \n",
    "\n",
    "#Prediction using SVM linear\n",
    "y_pred = svclassifier.predict(X_test) \n",
    "\n",
    "#Calculating the confusion matrix and the classification Report.\n",
    "print(\"\\n The confusion Matrix for the SVM linear Kernal is: \\n\", confusion_matrix(y_test,y_pred))  \n",
    "print(\"\\n The classification Report for the SVM linear Kernal is: \\n\",classification_report(y_test,y_pred))\n",
    "\n",
    "\n",
    "\n",
    "\n",
    "\n",
    "\n",
    "\n"
   ]
  },
  {
   "cell_type": "code",
   "execution_count": 2,
   "metadata": {},
   "outputs": [
    {
     "data": {
      "image/png": "[encoded data removed]",
      "text/plain": [
       "<Figure size 432x288 with 1 Axes>"
      ]
     },
     "metadata": {},
     "output_type": "display_data"
    }
   ],
   "source": [
    "from mlxtend.plotting import plot_decision_regions\n",
    "\n",
    "# Plotting decision regions\n",
    "x = np.asarray(X_train)\n",
    "y = np.asarray(y_train)\n",
    "plot_decision_regions(x, y, clf=svclassifier, legend=2)\n",
    "plt.title('SVM Linear on Wine Dataset')\n",
    "plt.show()\n",
    "    \n",
    "    \n",
    "\n"
   ]
  },
  {
   "cell_type": "code",
   "execution_count": null,
   "metadata": {},
   "outputs": [],
   "source": [
    "#References:\n",
    "\n",
    "#https://rasbt.github.io/mlxtend/user_guide/plotting/plot_decision_regions/\n",
    "#https://stackabuse.com/implementing-svm-and-kernel-svm-with-pythons-scikit-learn/\n",
    "#https://anaconda.org/conda-forge/mlxtend\n"
   ]
  }
 ],
 "metadata": {
  "kernelspec": {
   "display_name": "Python 3",
   "language": "python",
   "name": "python3"
  },
  "language_info": {
   "codemirror_mode": {
    "name": "ipython",
    "version": 3
   },
   "file_extension": ".py",
   "mimetype": "text/x-python",
   "name": "python",
   "nbconvert_exporter": "python",
   "pygments_lexer": "ipython3",
   "version": "3.6.5"
  }
 },
 "nbformat": 4,
 "nbformat_minor": 2
}
