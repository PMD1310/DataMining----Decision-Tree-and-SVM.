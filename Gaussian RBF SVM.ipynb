{
 "cells": [
  {
   "cell_type": "code",
   "execution_count": 1,
   "metadata": {},
   "outputs": [],
   "source": [
    "import numpy as np\n",
    "import pandas as pd\n",
    "from sklearn import datasets, linear_model, svm\n",
    "from sklearn.model_selection import train_test_split\n",
    "from sklearn.tree import DecisionTreeClassifier\n",
    "from sklearn.metrics import accuracy_score\n",
    "from sklearn import tree\n",
    "from sklearn.metrics import confusion_matrix\n",
    "from sklearn.metrics import classification_report\n",
    "import graphviz \n",
    "from sklearn.feature_selection import SelectKBest\n",
    "from sklearn.feature_selection import chi2\n",
    "from sklearn.svm import SVC\n",
    "\n",
    "#load datasets\n",
    "wine = datasets.load_wine()\n",
    "df = pd.DataFrame(wine.data)\n",
    "y = wine.target\n",
    "z = wine.data\n",
    "\n",
    "\n",
    "\n",
    "\n",
    "\n"
   ]
  },
  {
   "cell_type": "code",
   "execution_count": 2,
   "metadata": {},
   "outputs": [
    {
     "name": "stdout",
     "output_type": "stream",
     "text": [
      "Dimensions of the Training Data Set are: \n",
      " (142, 13) (142,) \n",
      "\n",
      "Dimensions of the Test Data Set are: \n",
      " (36, 13) (36,) \n",
      "\n"
     ]
    }
   ],
   "source": [
    "#split the training and test sets\n",
    "X_train, X_test, y_train, y_test = train_test_split(df, y, test_size=0.2)\n",
    "print (\"Dimensions of the Training Data Set are: \\n\",X_train.shape, y_train.shape,\"\\n\")\n",
    "print (\"Dimensions of the Test Data Set are: \\n\",X_test.shape, y_test.shape,\"\\n\")\n",
    "\n"
   ]
  },
  {
   "cell_type": "code",
   "execution_count": 3,
   "metadata": {},
   "outputs": [],
   "source": [
    "#Selecting Two Attributes for training and testing sets\n",
    "best2 = SelectKBest(score_func=chi2, k=2)\n",
    "best2.fit(X_train, y_train)\n",
    "best2_attributes = best2.get_support(indices = True)\n",
    "extracted2 = [df.columns[iterator] for iterator in best2_attributes]\n",
    "X_train = X_train[extracted2]\n",
    "X_test = X_test[extracted2]"
   ]
  },
  {
   "cell_type": "code",
   "execution_count": 4,
   "metadata": {},
   "outputs": [
    {
     "name": "stdout",
     "output_type": "stream",
     "text": [
      "\n",
      " The shape of the extracted train set features are: \n",
      " (142, 2)\n",
      "\n",
      " The shape of the extracted test set  features are: \n",
      " (36, 2)\n"
     ]
    }
   ],
   "source": [
    "print (\"\\n The shape of the extracted train set features are: \\n\",X_train.shape)\n",
    "print (\"\\n The shape of the extracted test set  features are: \\n\",X_test.shape)\n",
    "\n"
   ]
  },
  {
   "cell_type": "code",
   "execution_count": 5,
   "metadata": {},
   "outputs": [
    {
     "data": {
      "text/plain": [
       "SVC(C=1.0, cache_size=200, class_weight=None, coef0=0.0,\n",
       "  decision_function_shape='ovo', degree=3, gamma='auto', kernel='rbf',\n",
       "  max_iter=-1, probability=False, random_state=None, shrinking=True,\n",
       "  tol=0.001, verbose=False)"
      ]
     },
     "execution_count": 5,
     "metadata": {},
     "output_type": "execute_result"
    }
   ],
   "source": [
    "######################### SVM Gaussian RBF ################################\n",
    "#Building a SVM model with Kernal = 'Gaussian RBF'\n",
    "svclassifier_rbf = SVC(kernel='rbf', decision_function_shape = 'ovo')  \n",
    "svclassifier_rbf.fit(X_train, y_train) \n"
   ]
  },
  {
   "cell_type": "code",
   "execution_count": 6,
   "metadata": {},
   "outputs": [],
   "source": [
    "#Prediction using SVM Gaussian RBF\n",
    "y_pred_rbf = svclassifier_rbf.predict(X_test)\n"
   ]
  },
  {
   "cell_type": "code",
   "execution_count": 7,
   "metadata": {},
   "outputs": [
    {
     "name": "stdout",
     "output_type": "stream",
     "text": [
      "\n",
      " The confusion Matrix for the SVM  Gaussian RBF Kernal is: \n",
      " [[ 3  6  0]\n",
      " [ 0 15  1]\n",
      " [ 1  9  1]]\n",
      "\n",
      " The classification Report for the SVM Gaussian RBF Kernal is: \n",
      "              precision    recall  f1-score   support\n",
      "\n",
      "          0       0.75      0.33      0.46         9\n",
      "          1       0.50      0.94      0.65        16\n",
      "          2       0.50      0.09      0.15        11\n",
      "\n",
      "avg / total       0.56      0.53      0.45        36\n",
      "\n"
     ]
    }
   ],
   "source": [
    "#Calculating the confusion matrix and the classification Report.\n",
    "print(\"\\n The confusion Matrix for the SVM  Gaussian RBF Kernal is: \\n\", confusion_matrix(y_test,y_pred_rbf))  \n",
    "print(\"\\n The classification Report for the SVM Gaussian RBF Kernal is: \\n\",classification_report(y_test,y_pred_rbf))\n"
   ]
  },
  {
   "cell_type": "code",
   "execution_count": null,
   "metadata": {},
   "outputs": [],
   "source": []
  }
 ],
 "metadata": {
  "kernelspec": {
   "display_name": "Python 3",
   "language": "python",
   "name": "python3"
  },
  "language_info": {
   "codemirror_mode": {
    "name": "ipython",
    "version": 3
   },
   "file_extension": ".py",
   "mimetype": "text/x-python",
   "name": "python",
   "nbconvert_exporter": "python",
   "pygments_lexer": "ipython3",
   "version": "3.6.5"
  }
 },
 "nbformat": 4,
 "nbformat_minor": 2
}
